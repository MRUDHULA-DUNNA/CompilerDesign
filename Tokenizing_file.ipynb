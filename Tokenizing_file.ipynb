{
  "nbformat": 4,
  "nbformat_minor": 0,
  "metadata": {
    "colab": {
      "provenance": [],
      "authorship_tag": "ABX9TyNmZUx34mcYrwXhRF1KDDLD",
      "include_colab_link": true
    },
    "kernelspec": {
      "name": "python3",
      "display_name": "Python 3"
    },
    "language_info": {
      "name": "python"
    }
  },
  "cells": [
    {
      "cell_type": "markdown",
      "metadata": {
        "id": "view-in-github",
        "colab_type": "text"
      },
      "source": [
        "<a href=\"https://colab.research.google.com/github/MRUDHULA-DUNNA/CompilerDesign/blob/main/Tokenizing_file.ipynb\" target=\"_parent\"><img src=\"https://colab.research.google.com/assets/colab-badge.svg\" alt=\"Open In Colab\"/></a>"
      ]
    },
    {
      "cell_type": "code",
      "execution_count": 22,
      "metadata": {
        "id": "Aj7He1G_QloA"
      },
      "outputs": [],
      "source": [
        "keywords={\"auto\",\"break\",\"case\",\"char\",\"const\",\"continue\",\"default\",\"do\",\"double\",\"else\",\n",
        "          \"enum\",\"extern\",\"float\",\"for\",\"goto\",\"if\",\"int\",\"long\",\"register\",\"return\",\n",
        "          \"short\",\"signed\",\"sized\",\"static\",\"struct\",\"switch\",\"typedef\",\"union\",\n",
        "          \"unsigned\",\"void\",\"volatile\",\"while\",\"printf\",\"scanf\",\"%d\",\"include\",\"stdio.h\",\n",
        "          \"main\"}"
      ]
    },
    {
      "cell_type": "code",
      "source": [
        "operators={\"+\",\"-\",\"*\",\"/\",\"<\",\">\",\"=\",\"<=\",\">=\",\"==\",\"++\",\"--\",\"%\"}"
      ],
      "metadata": {
        "id": "gNcBbHLOS5fn"
      },
      "execution_count": 23,
      "outputs": []
    },
    {
      "cell_type": "code",
      "source": [
        "delimiters={'(',')','{','}','[',']',',','#'}"
      ],
      "metadata": {
        "id": "QmGctMIVTVfm"
      },
      "execution_count": 3,
      "outputs": []
    },
    {
      "cell_type": "code",
      "source": [
        "def detect_keywords(text):\n",
        "    arr=[]\n",
        "    for word in text:\n",
        "      if word in keywords:\n",
        "        arr.append(word)\n",
        "    return list(set(arr))"
      ],
      "metadata": {
        "id": "P_cdukjaULTg"
      },
      "execution_count": 29,
      "outputs": []
    },
    {
      "cell_type": "code",
      "source": [
        "def detect_operators(text):\n",
        "  arr=[]\n",
        "  for word in text:\n",
        "    if word in operators:\n",
        "      arr.append(word)\n",
        "  return list(set(arr))"
      ],
      "metadata": {
        "id": "ZyvnYcGqUaWw"
      },
      "execution_count": 28,
      "outputs": []
    },
    {
      "cell_type": "code",
      "source": [
        "def detect_delimiters(text):\n",
        "  arr=[]\n",
        "  for word in text:\n",
        "    if word in delimiters:\n",
        "      arr.append(word)\n",
        "  return list(set(arr))"
      ],
      "metadata": {
        "id": "Pb7Xxh_VWCWC"
      },
      "execution_count": 27,
      "outputs": []
    },
    {
      "cell_type": "code",
      "source": [
        "def detect_num(text):\n",
        "  arr=[]\n",
        "  for word in text:\n",
        "    try:\n",
        "      a=int(word)\n",
        "      arr.append(word)\n",
        "    except:\n",
        "      pass\n",
        "  return list(set(arr))"
      ],
      "metadata": {
        "id": "80uyjgRDWeP8"
      },
      "execution_count": 26,
      "outputs": []
    },
    {
      "cell_type": "code",
      "source": [
        "def detect_identifiers(text):\n",
        "  k=detect_keywords(text)\n",
        "  o=detect_operators(text)\n",
        "  d=detect_delimiters(text)\n",
        "  n=detect_num(text)\n",
        "  not_ident=k+o+d+n\n",
        "  arr=[]\n",
        "  for word in text:\n",
        "    if word not in not_ident:\n",
        "      arr.append(word)\n",
        "  return arr"
      ],
      "metadata": {
        "id": "k-yELEjhXVaX"
      },
      "execution_count": 30,
      "outputs": []
    },
    {
      "cell_type": "code",
      "source": [
        "with open(\"example.txt\") as t:\n",
        "  text=t.read().split()\n",
        "print(\"KEYWORDS\",detect_keywords(text))\n",
        "print(\"OPERATORS\",detect_operators(text))\n",
        "print(\"DELIMITERS\",detect_delimiters(text))\n",
        "print(\"IDENTIFIERS\",detect_identifiers(text))\n",
        "print(\"NUMBERS\",detect_num(text))"
      ],
      "metadata": {
        "colab": {
          "base_uri": "https://localhost:8080/"
        },
        "id": "stMapdPlY3fW",
        "outputId": "3d516375-bcd7-4e90-f089-bbf9de3bb461"
      },
      "execution_count": 34,
      "outputs": [
        {
          "output_type": "stream",
          "name": "stdout",
          "text": [
            "KEYWORDS ['return', 'if', 'else']\n",
            "OPERATORS ['*', '-', '>']\n",
            "DELIMITERS [')', '(']\n",
            "IDENTIFIERS ['def', 'abs(a):', 'a', ':', 'a', ':', 'a']\n",
            "NUMBERS ['0', '1']\n"
          ]
        }
      ]
    }
  ]
}